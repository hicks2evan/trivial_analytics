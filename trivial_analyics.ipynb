{
 "metadata": {
  "language_info": {
   "codemirror_mode": {
    "name": "ipython",
    "version": 3
   },
   "file_extension": ".py",
   "mimetype": "text/x-python",
   "name": "python",
   "nbconvert_exporter": "python",
   "pygments_lexer": "ipython3",
   "version": "3.6.0-final"
  },
  "orig_nbformat": 2,
  "kernelspec": {
   "name": "python_defaultSpec_1599959774880",
   "display_name": "Python 3.6.0 64-bit"
  }
 },
 "nbformat": 4,
 "nbformat_minor": 2,
 "cells": [
  {
   "source": [
    "# Trivial Analytics\n",
    "The purpose of this experiment is to answer this question:\n",
    "\n",
    "> If you only could study 100 topics in preparation for Jeapordy!, which topics should you study\n",
    "\n",
    "Hopefully this will give me some practice doing data analytics on a relatively small data set, give me some insight into something I am interested in, and expose me to some natural language processing topics.\n",
    "\n",
    "I found a reddit poster sharing a data set with 200,000+ questions here https://www.reddit.com/r/datasets/comments/1uyd0t/200000_jeopardy_questions_in_a_json_file/"
   ],
   "cell_type": "markdown",
   "metadata": {}
  },
  {
   "cell_type": "code",
   "execution_count": null,
   "metadata": {
    "tags": []
   },
   "outputs": [],
   "source": [
    "import mysql.connector\n",
    "\n",
    "mydb = mysql.connector.connect(\n",
    "  host=\"localhost\",\n",
    "  user=\"service\",\n",
    "  password=\"jeopardy!\",\n",
    ")\n",
    "\n",
    "cursor = mydb.cursor()\n",
    "cursor.execute(\"SELECT question, answer FROM jeapordy_questions.question WHERE question like '%Egypt%'\")\n",
    "\n",
    "for i in range(0, 10):\n",
    "    row = cursor.fetchone()\n",
    "    print(\"Question: | \" + row[0])\n",
    "    print(\"Answer:   | \" + row[1])\n",
    "    print()"
   ]
  },
  {
   "source": [
    "## Named Entity Recognition\n",
    "So what do I mean by 'topic'. The subject of a question could be pretty broad or pretty granular. Clearly it doesn't give us enough info on what to study just looking at the category of the question. Categories like 'history' are way too broad to be useful. Meanwhile many of the Jeapordy! categories are unique to the game, playful rhymes or word games.\n",
    "\n",
    "In general, it looks like we are trying to extract people, places, times, etc. In NLP there is a name for annotating this type of information, 'Named Entity Recognition'. Fortunately there are handy python libraries out there like spaCy that can do the heavy lifting for this. https://spacy.io/api/entityrecognizer\n"
   ],
   "cell_type": "markdown",
   "metadata": {}
  },
  {
   "cell_type": "code",
   "execution_count": null,
   "metadata": {
    "tags": []
   },
   "outputs": [],
   "source": [
    "# Reference https://towardsdatascience.com/named-entity-recognition-with-nltk-and-spacy-8c4a7d88e7da\n",
    "import spacy\n",
    "from spacy import displacy\n",
    "from collections import Counter\n",
    "import en_core_web_sm\n",
    "nlp = en_core_web_sm.load()\n",
    "\n",
    "q = '\"The Prince of Egypt\" featured Ralph Fiennes as the voice of this stubborn ruler'\n",
    "\n",
    "doc = nlp(q)\n",
    "print([(X.text, X.label_) for X in doc.ents])"
   ]
  },
  {
   "source": [
    "That's great, so we can put in a string and spaCy can help us identify the named entities.\n",
    "\n",
    "The information that is useful is most often in the body of the question or the answer.\n",
    "\n",
    "For example, \"Galileo was sentenced to home arrest after supporting the theories of this astronomer\" is a question about Copernicus, which appears in the answer. Galileo is also a useful piece of information, if you knew a lot about Galielo, you probably could get to Copernicus.\n",
    "\n",
    "The main subject of the question could appear in the question as well. \"Copernicus was prosecuted by the church for publishing a paper on this model of the solar system\". Copernicus is still the main topic of the question, even though he doesn't appear in the answer, 'heliocentric'. \n",
    "\n",
    "Seems like it would be worthwhile to create a new table for named entities and then a mapping table to map q/a combinations that contain those named entities...\n"
   ],
   "cell_type": "markdown",
   "metadata": {}
  }
 ]
}