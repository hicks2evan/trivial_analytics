{
 "metadata": {
  "language_info": {
   "codemirror_mode": {
    "name": "ipython",
    "version": 3
   },
   "file_extension": ".py",
   "mimetype": "text/x-python",
   "name": "python",
   "nbconvert_exporter": "python",
   "pygments_lexer": "ipython3",
   "version": "3.6.0-final"
  },
  "orig_nbformat": 2,
  "kernelspec": {
   "name": "python_defaultSpec_1600568068412",
   "display_name": "Python 3.6.0 64-bit"
  }
 },
 "nbformat": 4,
 "nbformat_minor": 2,
 "cells": [
  {
   "source": [
    "# Trivial Analytics\n",
    "The purpose of this experiment is to answer this question:\n",
    "\n",
    "> If you only could study 100 topics in preparation for Jeapordy!, which topics should you study\n",
    "\n",
    "Hopefully this will give me some practice doing data analytics on a relatively small data set, give me some insight into something I am interested in, and expose me to some natural language processing topics.\n",
    "\n",
    "I found a reddit poster sharing a data set with 200,000+ questions here https://www.reddit.com/r/datasets/comments/1uyd0t/200000_jeopardy_questions_in_a_json_file/"
   ],
   "cell_type": "markdown",
   "metadata": {}
  },
  {
   "cell_type": "code",
   "execution_count": null,
   "metadata": {
    "tags": []
   },
   "outputs": [],
   "source": [
    "import mysql.connector\n",
    "\n",
    "mydb = mysql.connector.connect(\n",
    "  host=\"localhost\",\n",
    "  user=\"service\",\n",
    "  password=\"jeopardy!\",\n",
    ")\n",
    "\n",
    "cursor = mydb.cursor()\n",
    "cursor.execute(\"SELECT question, answer FROM jeapordy_questions.question WHERE question like '%Egypt%'\")\n",
    "\n",
    "for i in range(0, 10):\n",
    "    row = cursor.fetchone()\n",
    "    print(\"Question: | \" + row[0])\n",
    "    print(\"Answer:   | \" + row[1])\n",
    "    print()"
   ]
  },
  {
   "source": [
    "## Named Entity Recognition\n",
    "So what do I mean by 'topic'. The subject of a question could be pretty broad or pretty granular. Clearly it doesn't give us enough info on what to study just looking at the category of the question. Categories like 'history' are way too broad to be useful. Meanwhile many of the Jeapordy! categories are unique to the game, playful rhymes or word games.\n",
    "\n",
    "In general, it looks like we are trying to extract people, places, times, etc. In NLP there is a name for annotating this type of information, 'Named Entity Recognition'. Fortunately there are handy python libraries out there like spaCy that can do the heavy lifting for this. https://spacy.io/api/entityrecognizer\n"
   ],
   "cell_type": "markdown",
   "metadata": {}
  },
  {
   "cell_type": "code",
   "execution_count": 41,
   "metadata": {
    "tags": []
   },
   "outputs": [
    {
     "output_type": "stream",
     "name": "stdout",
     "text": "[('The Prince of Egypt', 'WORK_OF_ART'), ('Ralph Fiennes', 'PERSON')]\n"
    }
   ],
   "source": [
    "# Reference https://towardsdatascience.com/named-entity-recognition-with-nltk-and-spacy-8c4a7d88e7da\n",
    "import spacy\n",
    "from spacy import displacy\n",
    "from collections import Counter\n",
    "import en_core_web_sm\n",
    "nlp = en_core_web_sm.load()\n",
    "\n",
    "q = '\"The Prince of Egypt\" featured Ralph Fiennes as the voice of this stubborn ruler'\n",
    "\n",
    "doc = nlp(q)\n",
    "print([(X.text, X.label_) for X in doc.ents])"
   ]
  },
  {
   "source": [
    "That's great, so we can put in a string and spaCy can help us identify the named entities.\n",
    "\n",
    "The information that is useful is most often in the body of the question or the answer.\n",
    "\n",
    "For example, \"Galileo was sentenced to home arrest after supporting the theories of this astronomer\" is a question about Copernicus, which appears in the answer. Galileo is also a useful piece of information, if you knew a lot about Galielo, you probably could get to Copernicus.\n",
    "\n",
    "The main subject of the question could appear in the question as well. \"Copernicus was prosecuted by the church for publishing a paper on this model of the solar system\". Copernicus is still the main topic of the question, even though he doesn't appear in the answer, 'heliocentric'. \n",
    "\n",
    "Seems like it would be worthwhile to create a new table for named entities and then a mapping table to map q/a combinations that contain those named entities.\n"
   ],
   "cell_type": "markdown",
   "metadata": {}
  },
  {
   "source": [
    "## Mapping Questions to Named Entities\n",
    "To map question and answer text to Named Entities, we need a new table to track those entities and their types, as well as a mapping table to handle the many to many relationship of question to named_entity. With that set up and foreign keys in place, I should be able to populate those tables pretty easily."
   ],
   "cell_type": "markdown",
   "metadata": {}
  },
  {
   "cell_type": "code",
   "execution_count": 63,
   "metadata": {
    "tags": []
   },
   "outputs": [
    {
     "output_type": "stream",
     "name": "stdout",
     "text": "Deleting old records...\nStarting get...\n(100, 0)\nDone, starting mapping...\nDone, starting insert...\n"
    },
    {
     "output_type": "error",
     "ename": "IntegrityError",
     "evalue": "1452 (23000): Cannot add or update a child row: a foreign key constraint fails (`jeapordy_questions`.`question_named_entity`, CONSTRAINT `question_fk` FOREIGN KEY (`id`) REFERENCES `question` (`question_id`))",
     "traceback": [
      "\u001b[0;31m---------------------------------------------------------------------------\u001b[0m",
      "\u001b[0;31mMySQLInterfaceError\u001b[0m                       Traceback (most recent call last)",
      "\u001b[0;32m/Library/Frameworks/Python.framework/Versions/3.6/lib/python3.6/site-packages/mysql/connector/connection_cext.py\u001b[0m in \u001b[0;36mcmd_query\u001b[0;34m(self, query, raw, buffered, raw_as_string)\u001b[0m\n\u001b[1;32m    488\u001b[0m                                \u001b[0mraw\u001b[0m\u001b[0;34m=\u001b[0m\u001b[0mraw\u001b[0m\u001b[0;34m,\u001b[0m \u001b[0mbuffered\u001b[0m\u001b[0;34m=\u001b[0m\u001b[0mbuffered\u001b[0m\u001b[0;34m,\u001b[0m\u001b[0;34m\u001b[0m\u001b[0m\n\u001b[0;32m--> 489\u001b[0;31m                                raw_as_string=raw_as_string)\n\u001b[0m\u001b[1;32m    490\u001b[0m         \u001b[0;32mexcept\u001b[0m \u001b[0mMySQLInterfaceError\u001b[0m \u001b[0;32mas\u001b[0m \u001b[0mexc\u001b[0m\u001b[0;34m:\u001b[0m\u001b[0;34m\u001b[0m\u001b[0m\n",
      "\u001b[0;31mMySQLInterfaceError\u001b[0m: Cannot add or update a child row: a foreign key constraint fails (`jeapordy_questions`.`question_named_entity`, CONSTRAINT `question_fk` FOREIGN KEY (`id`) REFERENCES `question` (`question_id`))",
      "\nDuring handling of the above exception, another exception occurred:\n",
      "\u001b[0;31mIntegrityError\u001b[0m                            Traceback (most recent call last)",
      "\u001b[0;32m<ipython-input-63-5076041437c5>\u001b[0m in \u001b[0;36m<module>\u001b[0;34m()\u001b[0m\n\u001b[1;32m     50\u001b[0m   \u001b[0mprint\u001b[0m\u001b[0;34m(\u001b[0m\u001b[0;34m\"Done, starting insert...\"\u001b[0m\u001b[0;34m)\u001b[0m\u001b[0;34m\u001b[0m\u001b[0m\n\u001b[1;32m     51\u001b[0m   \u001b[0mcursor\u001b[0m\u001b[0;34m.\u001b[0m\u001b[0mexecutemany\u001b[0m\u001b[0;34m(\u001b[0m\u001b[0madd_named_entity\u001b[0m\u001b[0;34m,\u001b[0m \u001b[0;34m(\u001b[0m\u001b[0mlist\u001b[0m\u001b[0;34m(\u001b[0m\u001b[0mdata_entities\u001b[0m\u001b[0;34m.\u001b[0m\u001b[0mitems\u001b[0m\u001b[0;34m(\u001b[0m\u001b[0;34m)\u001b[0m\u001b[0;34m)\u001b[0m\u001b[0;34m)\u001b[0m\u001b[0;34m)\u001b[0m\u001b[0;34m\u001b[0m\u001b[0m\n\u001b[0;32m---> 52\u001b[0;31m   \u001b[0mcursor\u001b[0m\u001b[0;34m.\u001b[0m\u001b[0mexecutemany\u001b[0m\u001b[0;34m(\u001b[0m\u001b[0madd_mapping\u001b[0m\u001b[0;34m,\u001b[0m \u001b[0;34m(\u001b[0m\u001b[0mdata_mappings\u001b[0m\u001b[0;34m)\u001b[0m\u001b[0;34m)\u001b[0m\u001b[0;34m\u001b[0m\u001b[0m\n\u001b[0m\u001b[1;32m     53\u001b[0m \u001b[0;34m\u001b[0m\u001b[0m\n\u001b[1;32m     54\u001b[0m   \u001b[0mall_data_entities\u001b[0m \u001b[0;34m=\u001b[0m \u001b[0;34m{\u001b[0m\u001b[0;34m**\u001b[0m\u001b[0mall_data_entities\u001b[0m\u001b[0;34m,\u001b[0m \u001b[0;34m**\u001b[0m\u001b[0mdata_entities\u001b[0m\u001b[0;34m}\u001b[0m\u001b[0;34m\u001b[0m\u001b[0m\n",
      "\u001b[0;32m/Library/Frameworks/Python.framework/Versions/3.6/lib/python3.6/site-packages/mysql/connector/cursor_cext.py\u001b[0m in \u001b[0;36mexecutemany\u001b[0;34m(self, operation, seq_params)\u001b[0m\n\u001b[1;32m    350\u001b[0m             \u001b[0mstmt\u001b[0m \u001b[0;34m=\u001b[0m \u001b[0mself\u001b[0m\u001b[0;34m.\u001b[0m\u001b[0m_batch_insert\u001b[0m\u001b[0;34m(\u001b[0m\u001b[0moperation\u001b[0m\u001b[0;34m,\u001b[0m \u001b[0mseq_params\u001b[0m\u001b[0;34m)\u001b[0m\u001b[0;34m\u001b[0m\u001b[0m\n\u001b[1;32m    351\u001b[0m             \u001b[0;32mif\u001b[0m \u001b[0mstmt\u001b[0m \u001b[0;32mis\u001b[0m \u001b[0;32mnot\u001b[0m \u001b[0;32mNone\u001b[0m\u001b[0;34m:\u001b[0m\u001b[0;34m\u001b[0m\u001b[0m\n\u001b[0;32m--> 352\u001b[0;31m                 \u001b[0;32mreturn\u001b[0m \u001b[0mself\u001b[0m\u001b[0;34m.\u001b[0m\u001b[0mexecute\u001b[0m\u001b[0;34m(\u001b[0m\u001b[0mstmt\u001b[0m\u001b[0;34m)\u001b[0m\u001b[0;34m\u001b[0m\u001b[0m\n\u001b[0m\u001b[1;32m    353\u001b[0m \u001b[0;34m\u001b[0m\u001b[0m\n\u001b[1;32m    354\u001b[0m         \u001b[0mrowcnt\u001b[0m \u001b[0;34m=\u001b[0m \u001b[0;36m0\u001b[0m\u001b[0;34m\u001b[0m\u001b[0m\n",
      "\u001b[0;32m/Library/Frameworks/Python.framework/Versions/3.6/lib/python3.6/site-packages/mysql/connector/cursor_cext.py\u001b[0m in \u001b[0;36mexecute\u001b[0;34m(self, operation, params, multi)\u001b[0m\n\u001b[1;32m    264\u001b[0m             result = self._cnx.cmd_query(stmt, raw=self._raw,\n\u001b[1;32m    265\u001b[0m                                          \u001b[0mbuffered\u001b[0m\u001b[0;34m=\u001b[0m\u001b[0mself\u001b[0m\u001b[0;34m.\u001b[0m\u001b[0m_buffered\u001b[0m\u001b[0;34m,\u001b[0m\u001b[0;34m\u001b[0m\u001b[0m\n\u001b[0;32m--> 266\u001b[0;31m                                          raw_as_string=self._raw_as_string)\n\u001b[0m\u001b[1;32m    267\u001b[0m         \u001b[0;32mexcept\u001b[0m \u001b[0mMySQLInterfaceError\u001b[0m \u001b[0;32mas\u001b[0m \u001b[0mexc\u001b[0m\u001b[0;34m:\u001b[0m\u001b[0;34m\u001b[0m\u001b[0m\n\u001b[1;32m    268\u001b[0m             raise errors.get_mysql_exception(msg=exc.msg, errno=exc.errno,\n",
      "\u001b[0;32m/Library/Frameworks/Python.framework/Versions/3.6/lib/python3.6/site-packages/mysql/connector/connection_cext.py\u001b[0m in \u001b[0;36mcmd_query\u001b[0;34m(self, query, raw, buffered, raw_as_string)\u001b[0m\n\u001b[1;32m    490\u001b[0m         \u001b[0;32mexcept\u001b[0m \u001b[0mMySQLInterfaceError\u001b[0m \u001b[0;32mas\u001b[0m \u001b[0mexc\u001b[0m\u001b[0;34m:\u001b[0m\u001b[0;34m\u001b[0m\u001b[0m\n\u001b[1;32m    491\u001b[0m             raise errors.get_mysql_exception(exc.errno, msg=exc.msg,\n\u001b[0;32m--> 492\u001b[0;31m                                              sqlstate=exc.sqlstate)\n\u001b[0m\u001b[1;32m    493\u001b[0m         \u001b[0;32mexcept\u001b[0m \u001b[0mAttributeError\u001b[0m\u001b[0;34m:\u001b[0m\u001b[0;34m\u001b[0m\u001b[0m\n\u001b[1;32m    494\u001b[0m             \u001b[0;32mif\u001b[0m \u001b[0mself\u001b[0m\u001b[0;34m.\u001b[0m\u001b[0m_unix_socket\u001b[0m\u001b[0;34m:\u001b[0m\u001b[0;34m\u001b[0m\u001b[0m\n",
      "\u001b[0;31mIntegrityError\u001b[0m: 1452 (23000): Cannot add or update a child row: a foreign key constraint fails (`jeapordy_questions`.`question_named_entity`, CONSTRAINT `question_fk` FOREIGN KEY (`id`) REFERENCES `question` (`question_id`))"
     ]
    }
   ],
   "source": [
    "import mysql.connector\n",
    "import regex\n",
    "import spacy\n",
    "from spacy import displacy\n",
    "from collections import Counter\n",
    "import en_core_web_sm\n",
    "nlp = en_core_web_sm.load()\n",
    "\n",
    "mydb = mysql.connector.connect(\n",
    "  host=\"localhost\",\n",
    "  user=\"service\",\n",
    "  password=\"jeopardy!\",\n",
    ")\n",
    "\n",
    "# Queries\n",
    "get_all_questions = (\"SELECT question_id, question, answer FROM jeapordy_questions.question LIMIT %s OFFSET %s\")\n",
    "delete_mappings = \"DELETE FROM jeapordy_questions.question_named_entity\"\n",
    "delete_named_entities = \"DELETE FROM jeapordy_questions.named_entity\"\n",
    "add_named_entity = (\"INSERT INTO jeapordy_questions.named_entity (name, type) VALUES (%s, %s)\")\n",
    "add_mapping = (\"INSERT INTO jeapordy_questions.question_named_entity (question, named_entity) VALUES (%s, %s)\")\n",
    "\n",
    "cursor = mydb.cursor()\n",
    "print(\"Deleting old records...\")\n",
    "cursor.execute(delete_mappings)\n",
    "cursor.execute(delete_named_entities)\n",
    "\n",
    "limit = 100\n",
    "offset = 0\n",
    "data_entities = dict()\n",
    "all_data_entities = dict()\n",
    "data_mappings = []\n",
    "\n",
    "for i in range(limit, 200000, limit):\n",
    "  print(\"Starting get...\")\n",
    "  get_data = (limit, offset)\n",
    "  print(str(get_data))\n",
    "  cursor.execute(get_all_questions, get_data)\n",
    "\n",
    "  print(\"Done, starting mapping...\")\n",
    "  for (question_id, question, answer) in cursor:\n",
    "      q = regex.sub(\"'\", \"\", question + \" \" + answer)\n",
    "      doc = nlp(q)\n",
    "      for X in doc.ents:\n",
    "        entity = X.text.lower()\n",
    "        if not entity in data_entities:\n",
    "          if not entity in all_data_entities:\n",
    "            data_entities[entity] = X.label_\n",
    "        data_mapping = (question_id, entity)\n",
    "        data_mappings.append(data_mapping)\n",
    "  print(\"Done, starting insert...\")\n",
    "  cursor.executemany(add_named_entity, (list(data_entities.items())))\n",
    "  cursor.executemany(add_mapping, (data_mappings))\n",
    "\n",
    "  all_data_entities = {**all_data_entities, **data_entities} \n",
    "  data_entities.clear()\n",
    "  data_mappings = []\n",
    "  offset = i\n",
    "print(\"Done, closing...\")\n",
    "cursor.close()"
   ]
  },
  {
   "source": [
    "Facing some issues with fk contraints... probably just something in the data. Need to revisit."
   ],
   "cell_type": "markdown",
   "metadata": {}
  }
 ]
}